{
 "cells": [
  {
   "cell_type": "code",
   "execution_count": 21,
   "id": "funky-angola",
   "metadata": {},
   "outputs": [],
   "source": [
    "import numpy as np\n",
    "import pandas as pd\n",
    "from gtda.mapper import (\n",
    "    CubicalCover,\n",
    "    OneDimensionalCover,\n",
    "    make_mapper_pipeline,\n",
    "    Projection,\n",
    "    plot_static_mapper_graph,\n",
    "    plot_interactive_mapper_graph,\n",
    "    MapperInteractivePlotter\n",
    ")\n",
    "from gtda.mapper.cluster import ParallelClustering\n",
    "from gtda.mapper import Eccentricity,Entropy\n",
    "\n",
    "from sklearn.preprocessing import MinMaxScaler\n",
    "from sklearn.cluster import DBSCAN, KMeans,MiniBatchKMeans\n",
    "from sklearn.decomposition import PCA\n",
    "from sklearn.cluster import AgglomerativeClustering, OPTICS"
   ]
  },
  {
   "cell_type": "code",
   "execution_count": 22,
   "id": "8a8760a2",
   "metadata": {},
   "outputs": [],
   "source": [
    "import matplotlib.pyplot as plt"
   ]
  },
  {
   "cell_type": "code",
   "execution_count": 23,
   "id": "complimentary-chassis",
   "metadata": {},
   "outputs": [],
   "source": [
    "import openpyxl\n",
    "xlsx = pd.ExcelFile('41591_2020_897_MOESM3_ESM.xlsx')\n",
    "df = pd.read_excel(xlsx, '(D) Figure 2A-D')"
   ]
  },
  {
   "cell_type": "code",
   "execution_count": 24,
   "id": "structured-closure",
   "metadata": {},
   "outputs": [],
   "source": [
    "df = df.rename({'Patient ID': 'ID','IgG S/CO': 'IgG (S/CO)', 'IgM S/CO': 'IgM (S/CO)'}, axis=1)"
   ]
  },
  {
   "cell_type": "code",
   "execution_count": 25,
   "id": "convenient-institution",
   "metadata": {},
   "outputs": [
    {
     "data": {
      "text/html": [
       "<div>\n",
       "<style scoped>\n",
       "    .dataframe tbody tr th:only-of-type {\n",
       "        vertical-align: middle;\n",
       "    }\n",
       "\n",
       "    .dataframe tbody tr th {\n",
       "        vertical-align: top;\n",
       "    }\n",
       "\n",
       "    .dataframe thead th {\n",
       "        text-align: right;\n",
       "    }\n",
       "</style>\n",
       "<table border=\"1\" class=\"dataframe\">\n",
       "  <thead>\n",
       "    <tr style=\"text-align: right;\">\n",
       "      <th></th>\n",
       "      <th>ID</th>\n",
       "      <th>Days after symptoms onset</th>\n",
       "      <th>IgG (S/CO)</th>\n",
       "      <th>IgM (S/CO)</th>\n",
       "      <th>Group</th>\n",
       "    </tr>\n",
       "  </thead>\n",
       "  <tbody>\n",
       "    <tr>\n",
       "      <th>0</th>\n",
       "      <td>1</td>\n",
       "      <td>4</td>\n",
       "      <td>36.272</td>\n",
       "      <td>0.162</td>\n",
       "      <td>IgG seroconverted earlier than IgM</td>\n",
       "    </tr>\n",
       "    <tr>\n",
       "      <th>1</th>\n",
       "      <td>1</td>\n",
       "      <td>7</td>\n",
       "      <td>196.891</td>\n",
       "      <td>0.642</td>\n",
       "      <td>IgG seroconverted earlier than IgM</td>\n",
       "    </tr>\n",
       "    <tr>\n",
       "      <th>2</th>\n",
       "      <td>1</td>\n",
       "      <td>10</td>\n",
       "      <td>252.084</td>\n",
       "      <td>0.928</td>\n",
       "      <td>IgG seroconverted earlier than IgM</td>\n",
       "    </tr>\n",
       "    <tr>\n",
       "      <th>3</th>\n",
       "      <td>1</td>\n",
       "      <td>13</td>\n",
       "      <td>246.375</td>\n",
       "      <td>1.033</td>\n",
       "      <td>IgG seroconverted earlier than IgM</td>\n",
       "    </tr>\n",
       "    <tr>\n",
       "      <th>4</th>\n",
       "      <td>2</td>\n",
       "      <td>4</td>\n",
       "      <td>4.072</td>\n",
       "      <td>0.738</td>\n",
       "      <td>IgG seroconverted earlier than IgM</td>\n",
       "    </tr>\n",
       "    <tr>\n",
       "      <th>...</th>\n",
       "      <td>...</td>\n",
       "      <td>...</td>\n",
       "      <td>...</td>\n",
       "      <td>...</td>\n",
       "      <td>...</td>\n",
       "    </tr>\n",
       "    <tr>\n",
       "      <th>90</th>\n",
       "      <td>27</td>\n",
       "      <td>28</td>\n",
       "      <td>7.599</td>\n",
       "      <td>6.578</td>\n",
       "      <td>IgM seroconverted earlier than IgG</td>\n",
       "    </tr>\n",
       "    <tr>\n",
       "      <th>86</th>\n",
       "      <td>27</td>\n",
       "      <td>7</td>\n",
       "      <td>0.327</td>\n",
       "      <td>1.673</td>\n",
       "      <td>IgM seroconverted earlier than IgG</td>\n",
       "    </tr>\n",
       "    <tr>\n",
       "      <th>87</th>\n",
       "      <td>27</td>\n",
       "      <td>10</td>\n",
       "      <td>0.727</td>\n",
       "      <td>8.818</td>\n",
       "      <td>IgM seroconverted earlier than IgG</td>\n",
       "    </tr>\n",
       "    <tr>\n",
       "      <th>88</th>\n",
       "      <td>27</td>\n",
       "      <td>22</td>\n",
       "      <td>6.490</td>\n",
       "      <td>6.645</td>\n",
       "      <td>IgM seroconverted earlier than IgG</td>\n",
       "    </tr>\n",
       "    <tr>\n",
       "      <th>89</th>\n",
       "      <td>27</td>\n",
       "      <td>25</td>\n",
       "      <td>9.633</td>\n",
       "      <td>7.865</td>\n",
       "      <td>IgM seroconverted earlier than IgG</td>\n",
       "    </tr>\n",
       "  </tbody>\n",
       "</table>\n",
       "<p>141 rows × 5 columns</p>\n",
       "</div>"
      ],
      "text/plain": [
       "    ID  Days after symptoms onset  IgG (S/CO)  IgM (S/CO)  \\\n",
       "0    1                          4      36.272       0.162   \n",
       "1    1                          7     196.891       0.642   \n",
       "2    1                         10     252.084       0.928   \n",
       "3    1                         13     246.375       1.033   \n",
       "4    2                          4       4.072       0.738   \n",
       "..  ..                        ...         ...         ...   \n",
       "90  27                         28       7.599       6.578   \n",
       "86  27                          7       0.327       1.673   \n",
       "87  27                         10       0.727       8.818   \n",
       "88  27                         22       6.490       6.645   \n",
       "89  27                         25       9.633       7.865   \n",
       "\n",
       "                                 Group  \n",
       "0   IgG seroconverted earlier than IgM  \n",
       "1   IgG seroconverted earlier than IgM  \n",
       "2   IgG seroconverted earlier than IgM  \n",
       "3   IgG seroconverted earlier than IgM  \n",
       "4   IgG seroconverted earlier than IgM  \n",
       "..                                 ...  \n",
       "90  IgM seroconverted earlier than IgG  \n",
       "86  IgM seroconverted earlier than IgG  \n",
       "87  IgM seroconverted earlier than IgG  \n",
       "88  IgM seroconverted earlier than IgG  \n",
       "89  IgM seroconverted earlier than IgG  \n",
       "\n",
       "[141 rows x 5 columns]"
      ]
     },
     "execution_count": 25,
     "metadata": {},
     "output_type": "execute_result"
    }
   ],
   "source": [
    "df1 = df.sort_values('ID')\n",
    "df1"
   ]
  },
  {
   "cell_type": "markdown",
   "id": "supreme-cancer",
   "metadata": {},
   "source": [
    "Create tables of each patient."
   ]
  },
  {
   "cell_type": "code",
   "execution_count": 26,
   "id": "portable-tactics",
   "metadata": {},
   "outputs": [],
   "source": [
    "for x in range(28):\n",
    "    exec(f'patient_{x} = df1[df1[\"ID\"]==x]')"
   ]
  },
  {
   "cell_type": "code",
   "execution_count": 27,
   "id": "latest-parcel",
   "metadata": {},
   "outputs": [
    {
     "data": {
      "text/html": [
       "<div>\n",
       "<style scoped>\n",
       "    .dataframe tbody tr th:only-of-type {\n",
       "        vertical-align: middle;\n",
       "    }\n",
       "\n",
       "    .dataframe tbody tr th {\n",
       "        vertical-align: top;\n",
       "    }\n",
       "\n",
       "    .dataframe thead th {\n",
       "        text-align: right;\n",
       "    }\n",
       "</style>\n",
       "<table border=\"1\" class=\"dataframe\">\n",
       "  <thead>\n",
       "    <tr style=\"text-align: right;\">\n",
       "      <th></th>\n",
       "      <th>ID</th>\n",
       "      <th>Days after symptoms onset</th>\n",
       "      <th>IgG (S/CO)</th>\n",
       "      <th>IgM (S/CO)</th>\n",
       "      <th>Group</th>\n",
       "    </tr>\n",
       "  </thead>\n",
       "  <tbody>\n",
       "    <tr>\n",
       "      <th>100</th>\n",
       "      <td>5</td>\n",
       "      <td>4</td>\n",
       "      <td>0.221</td>\n",
       "      <td>0.231</td>\n",
       "      <td>Synchronous seroconversion</td>\n",
       "    </tr>\n",
       "    <tr>\n",
       "      <th>101</th>\n",
       "      <td>5</td>\n",
       "      <td>7</td>\n",
       "      <td>1.258</td>\n",
       "      <td>1.584</td>\n",
       "      <td>Synchronous seroconversion</td>\n",
       "    </tr>\n",
       "  </tbody>\n",
       "</table>\n",
       "</div>"
      ],
      "text/plain": [
       "     ID  Days after symptoms onset  IgG (S/CO)  IgM (S/CO)  \\\n",
       "100   5                          4       0.221       0.231   \n",
       "101   5                          7       1.258       1.584   \n",
       "\n",
       "                          Group  \n",
       "100  Synchronous seroconversion  \n",
       "101  Synchronous seroconversion  "
      ]
     },
     "execution_count": 27,
     "metadata": {},
     "output_type": "execute_result"
    }
   ],
   "source": [
    "patient_5"
   ]
  },
  {
   "cell_type": "code",
   "execution_count": 28,
   "id": "absent-american",
   "metadata": {},
   "outputs": [],
   "source": [
    "patients = []\n",
    "for x in range(28):\n",
    "    exec(f'patients.append(patient_{x})')"
   ]
  },
  {
   "cell_type": "code",
   "execution_count": 29,
   "id": "respected-cement",
   "metadata": {},
   "outputs": [
    {
     "data": {
      "text/html": [
       "<div>\n",
       "<style scoped>\n",
       "    .dataframe tbody tr th:only-of-type {\n",
       "        vertical-align: middle;\n",
       "    }\n",
       "\n",
       "    .dataframe tbody tr th {\n",
       "        vertical-align: top;\n",
       "    }\n",
       "\n",
       "    .dataframe thead th {\n",
       "        text-align: right;\n",
       "    }\n",
       "</style>\n",
       "<table border=\"1\" class=\"dataframe\">\n",
       "  <thead>\n",
       "    <tr style=\"text-align: right;\">\n",
       "      <th></th>\n",
       "      <th>ID</th>\n",
       "      <th>Days after symptoms onset</th>\n",
       "      <th>IgG (S/CO)</th>\n",
       "      <th>IgM (S/CO)</th>\n",
       "      <th>Group</th>\n",
       "    </tr>\n",
       "  </thead>\n",
       "  <tbody>\n",
       "    <tr>\n",
       "      <th>51</th>\n",
       "      <td>25</td>\n",
       "      <td>17</td>\n",
       "      <td>0.867</td>\n",
       "      <td>0.368</td>\n",
       "      <td>IgG seroconverted earlier than IgM</td>\n",
       "    </tr>\n",
       "    <tr>\n",
       "      <th>50</th>\n",
       "      <td>25</td>\n",
       "      <td>14</td>\n",
       "      <td>0.956</td>\n",
       "      <td>0.385</td>\n",
       "      <td>IgG seroconverted earlier than IgM</td>\n",
       "    </tr>\n",
       "    <tr>\n",
       "      <th>49</th>\n",
       "      <td>25</td>\n",
       "      <td>11</td>\n",
       "      <td>0.786</td>\n",
       "      <td>0.339</td>\n",
       "      <td>IgG seroconverted earlier than IgM</td>\n",
       "    </tr>\n",
       "    <tr>\n",
       "      <th>48</th>\n",
       "      <td>25</td>\n",
       "      <td>8</td>\n",
       "      <td>0.510</td>\n",
       "      <td>0.326</td>\n",
       "      <td>IgG seroconverted earlier than IgM</td>\n",
       "    </tr>\n",
       "    <tr>\n",
       "      <th>47</th>\n",
       "      <td>25</td>\n",
       "      <td>5</td>\n",
       "      <td>0.800</td>\n",
       "      <td>0.349</td>\n",
       "      <td>IgG seroconverted earlier than IgM</td>\n",
       "    </tr>\n",
       "    <tr>\n",
       "      <th>46</th>\n",
       "      <td>25</td>\n",
       "      <td>2</td>\n",
       "      <td>0.645</td>\n",
       "      <td>0.362</td>\n",
       "      <td>IgG seroconverted earlier than IgM</td>\n",
       "    </tr>\n",
       "    <tr>\n",
       "      <th>53</th>\n",
       "      <td>25</td>\n",
       "      <td>23</td>\n",
       "      <td>1.802</td>\n",
       "      <td>0.605</td>\n",
       "      <td>IgG seroconverted earlier than IgM</td>\n",
       "    </tr>\n",
       "    <tr>\n",
       "      <th>54</th>\n",
       "      <td>25</td>\n",
       "      <td>26</td>\n",
       "      <td>1.446</td>\n",
       "      <td>0.451</td>\n",
       "      <td>IgG seroconverted earlier than IgM</td>\n",
       "    </tr>\n",
       "    <tr>\n",
       "      <th>52</th>\n",
       "      <td>25</td>\n",
       "      <td>20</td>\n",
       "      <td>1.822</td>\n",
       "      <td>0.579</td>\n",
       "      <td>IgG seroconverted earlier than IgM</td>\n",
       "    </tr>\n",
       "  </tbody>\n",
       "</table>\n",
       "</div>"
      ],
      "text/plain": [
       "    ID  Days after symptoms onset  IgG (S/CO)  IgM (S/CO)  \\\n",
       "51  25                         17       0.867       0.368   \n",
       "50  25                         14       0.956       0.385   \n",
       "49  25                         11       0.786       0.339   \n",
       "48  25                          8       0.510       0.326   \n",
       "47  25                          5       0.800       0.349   \n",
       "46  25                          2       0.645       0.362   \n",
       "53  25                         23       1.802       0.605   \n",
       "54  25                         26       1.446       0.451   \n",
       "52  25                         20       1.822       0.579   \n",
       "\n",
       "                                 Group  \n",
       "51  IgG seroconverted earlier than IgM  \n",
       "50  IgG seroconverted earlier than IgM  \n",
       "49  IgG seroconverted earlier than IgM  \n",
       "48  IgG seroconverted earlier than IgM  \n",
       "47  IgG seroconverted earlier than IgM  \n",
       "46  IgG seroconverted earlier than IgM  \n",
       "53  IgG seroconverted earlier than IgM  \n",
       "54  IgG seroconverted earlier than IgM  \n",
       "52  IgG seroconverted earlier than IgM  "
      ]
     },
     "execution_count": 29,
     "metadata": {},
     "output_type": "execute_result"
    }
   ],
   "source": [
    "patients[25]"
   ]
  },
  {
   "cell_type": "code",
   "execution_count": 30,
   "id": "acting-report",
   "metadata": {},
   "outputs": [],
   "source": [
    "def pca_ind(ID):   \n",
    "    Days = patients[ID]['Days after symptoms onset'].to_numpy()\n",
    "    data = patients[ID].drop(['ID','Group','Days after symptoms onset'],axis=1)\n",
    "    data_wd = patients[ID].drop(['ID','Group'],axis=1)\n",
    "    \n",
    "    return data,data_wd,Days"
   ]
  },
  {
   "cell_type": "markdown",
   "id": "immune-milan",
   "metadata": {},
   "source": [
    "# SEVERAL"
   ]
  },
  {
   "cell_type": "markdown",
   "id": "adjacent-crime",
   "metadata": {},
   "source": [
    "## Patient 2 with days."
   ]
  },
  {
   "cell_type": "code",
   "execution_count": 31,
   "id": "varied-brief",
   "metadata": {},
   "outputs": [],
   "source": [
    "data, data_wd,Days= pca_ind(2)"
   ]
  },
  {
   "cell_type": "code",
   "execution_count": 32,
   "id": "03e1e087",
   "metadata": {},
   "outputs": [
    {
     "data": {
      "text/html": [
       "<div>\n",
       "<style scoped>\n",
       "    .dataframe tbody tr th:only-of-type {\n",
       "        vertical-align: middle;\n",
       "    }\n",
       "\n",
       "    .dataframe tbody tr th {\n",
       "        vertical-align: top;\n",
       "    }\n",
       "\n",
       "    .dataframe thead th {\n",
       "        text-align: right;\n",
       "    }\n",
       "</style>\n",
       "<table border=\"1\" class=\"dataframe\">\n",
       "  <thead>\n",
       "    <tr style=\"text-align: right;\">\n",
       "      <th></th>\n",
       "      <th>Days after symptoms onset</th>\n",
       "      <th>IgG (S/CO)</th>\n",
       "      <th>IgM (S/CO)</th>\n",
       "    </tr>\n",
       "  </thead>\n",
       "  <tbody>\n",
       "    <tr>\n",
       "      <th>4</th>\n",
       "      <td>4</td>\n",
       "      <td>4.072</td>\n",
       "      <td>0.738</td>\n",
       "    </tr>\n",
       "    <tr>\n",
       "      <th>5</th>\n",
       "      <td>7</td>\n",
       "      <td>66.458</td>\n",
       "      <td>6.059</td>\n",
       "    </tr>\n",
       "    <tr>\n",
       "      <th>6</th>\n",
       "      <td>10</td>\n",
       "      <td>104.050</td>\n",
       "      <td>7.457</td>\n",
       "    </tr>\n",
       "    <tr>\n",
       "      <th>7</th>\n",
       "      <td>13</td>\n",
       "      <td>95.682</td>\n",
       "      <td>7.215</td>\n",
       "    </tr>\n",
       "    <tr>\n",
       "      <th>8</th>\n",
       "      <td>16</td>\n",
       "      <td>82.838</td>\n",
       "      <td>6.848</td>\n",
       "    </tr>\n",
       "    <tr>\n",
       "      <th>9</th>\n",
       "      <td>19</td>\n",
       "      <td>75.330</td>\n",
       "      <td>6.566</td>\n",
       "    </tr>\n",
       "    <tr>\n",
       "      <th>10</th>\n",
       "      <td>22</td>\n",
       "      <td>78.927</td>\n",
       "      <td>9.206</td>\n",
       "    </tr>\n",
       "    <tr>\n",
       "      <th>11</th>\n",
       "      <td>25</td>\n",
       "      <td>65.975</td>\n",
       "      <td>8.068</td>\n",
       "    </tr>\n",
       "  </tbody>\n",
       "</table>\n",
       "</div>"
      ],
      "text/plain": [
       "    Days after symptoms onset  IgG (S/CO)  IgM (S/CO)\n",
       "4                           4       4.072       0.738\n",
       "5                           7      66.458       6.059\n",
       "6                          10     104.050       7.457\n",
       "7                          13      95.682       7.215\n",
       "8                          16      82.838       6.848\n",
       "9                          19      75.330       6.566\n",
       "10                         22      78.927       9.206\n",
       "11                         25      65.975       8.068"
      ]
     },
     "execution_count": 32,
     "metadata": {},
     "output_type": "execute_result"
    }
   ],
   "source": [
    "data_wd"
   ]
  },
  {
   "cell_type": "code",
   "execution_count": 37,
   "id": "aff30be7",
   "metadata": {},
   "outputs": [
    {
     "data": {
      "image/png": "[encoded data removed]",
      "text/plain": [
       "<Figure size 432x288 with 1 Axes>"
      ]
     },
     "metadata": {
      "needs_background": "light"
     },
     "output_type": "display_data"
    }
   ],
   "source": [
    "plt.plot(Days, np.log2(data['IgG (S/CO)']),'o-')\n",
    "plt.plot(Days, np.log2(data['IgM (S/CO)']),'o-')\n",
    "plt.xlabel(\"Days after symptoms onset\")\n",
    "plt.ylabel(\"$log_2$(Antibody level)\")\n",
    "plt.legend([\"IgG (S/CO)\", \"IgM (S/CO)\"] )\n",
    "plt.show()"
   ]
  },
  {
   "cell_type": "code",
   "execution_count": 40,
   "id": "organized-reservoir",
   "metadata": {
    "scrolled": false
   },
   "outputs": [
    {
     "data": {
      "application/vnd.jupyter.widget-view+json": {
       "model_id": "ca6211c43f284664ac3d55be2ae34066",
       "version_major": 2,
       "version_minor": 0
      },
      "text/plain": [
       "FigureWidget({\n",
       "    'data': [{'hoverinfo': 'none',\n",
       "              'line': {'color': '#888', 'width': 1},\n",
       "       …"
      ]
     },
     "metadata": {},
     "output_type": "display_data"
    }
   ],
   "source": [
    "#filter_func =PCA(n_components=1)\n",
    "\n",
    "filter_func =PCA(n_components=2)\n",
    "cover = CubicalCover(n_intervals=100, overlap_frac=0.9705,kind='balanced') \n",
    "clusterer = DBSCAN(eps = 0.1,metric='cosine')\n",
    "\n",
    "n_jobs = 1\n",
    "\n",
    "# Initialise pipeline\n",
    "pipe = make_mapper_pipeline(\n",
    "    scaler = MinMaxScaler(),\n",
    "    filter_func=filter_func,\n",
    "    cover=cover,\n",
    "    clusterer=clusterer,\n",
    "    #contract_nodes=True,\n",
    "    verbose=False,\n",
    "    n_jobs=n_jobs,\n",
    ")\n",
    "\n",
    "fig = plot_static_mapper_graph(pipe, data_wd, \n",
    "                                        layout_dim=2, \n",
    "                                        node_scale=20,\n",
    "                                        color_data = data_wd[['Days after symptoms onset']],\n",
    "                                        plotly_params = {\"layout\" : {\"font_size\":14}}\n",
    "                                       )\n",
    "fig\n",
    "#fig.write_image(\"images/SP_2_2.pdf\")"
   ]
  },
  {
   "cell_type": "markdown",
   "id": "according-alert",
   "metadata": {},
   "source": [
    "## Patient 3 with days."
   ]
  },
  {
   "cell_type": "code",
   "execution_count": 41,
   "id": "inappropriate-amount",
   "metadata": {},
   "outputs": [],
   "source": [
    "data, data_wd,Days = pca_ind(3)"
   ]
  },
  {
   "cell_type": "code",
   "execution_count": 43,
   "id": "a8993d18",
   "metadata": {},
   "outputs": [
    {
     "data": {
      "image/png": "[encoded data removed]",
      "text/plain": [
       "<Figure size 432x288 with 1 Axes>"
      ]
     },
     "metadata": {
      "needs_background": "light"
     },
     "output_type": "display_data"
    }
   ],
   "source": [
    "data_wd = data_wd.sort_values(by=\"Days after symptoms onset\")\n",
    "Days = np.sort(Days)\n",
    "\n",
    "plt.plot(Days, np.log2(data_wd['IgG (S/CO)']),'o-')\n",
    "plt.plot(Days, np.log2(data_wd['IgM (S/CO)']),'o-')\n",
    "plt.xlabel(\"Days after symptoms onset\")\n",
    "plt.ylabel(\"$log_2$(Antibody level)\")\n",
    "plt.legend([\"IgG (S/CO)\", \"IgM (S/CO)\"] )\n",
    "plt.show()"
   ]
  },
  {
   "cell_type": "code",
   "execution_count": 47,
   "id": "regulation-message",
   "metadata": {
    "scrolled": false
   },
   "outputs": [
    {
     "data": {
      "application/vnd.jupyter.widget-view+json": {
       "model_id": "6f5b77c193e649e3b2dd93f04a45c166",
       "version_major": 2,
       "version_minor": 0
      },
      "text/plain": [
       "FigureWidget({\n",
       "    'data': [{'hoverinfo': 'none',\n",
       "              'line': {'color': '#888', 'width': 1},\n",
       "       …"
      ]
     },
     "metadata": {},
     "output_type": "display_data"
    }
   ],
   "source": [
    "#filter_func =PCA(n_components=1)\n",
    "filter_func =PCA(n_components=2)\n",
    "cover = CubicalCover(n_intervals=100, overlap_frac=0.98,kind='balanced') \n",
    "clusterer = DBSCAN(eps = 0.1,metric='cosine')\n",
    "\n",
    "#500, 0.994\n",
    "#48,0.95\n",
    "#50, 0.95\n",
    "#50,0.97\n",
    "\n",
    "n_jobs = 1\n",
    "\n",
    "# Initialise pipeline\n",
    "pipe = make_mapper_pipeline(\n",
    "    scaler = MinMaxScaler(),\n",
    "    filter_func=filter_func,\n",
    "    cover=cover,\n",
    "    clusterer=clusterer,\n",
    "    #contract_nodes=True,\n",
    "    verbose=False,\n",
    "    n_jobs=n_jobs,\n",
    ")\n",
    "\n",
    "fig = plot_static_mapper_graph(pipe, data_wd, \n",
    "                                        layout_dim=2, \n",
    "                                        node_scale=20,\n",
    "                                        color_data = data_wd[['Days after symptoms onset']],\n",
    "                                        plotly_params = {\"layout\" : {\"font_size\":14}}\n",
    "                                       )\n",
    "fig\n",
    "#fig.write_image(\"images/SP_3_2.pdf\")"
   ]
  },
  {
   "cell_type": "markdown",
   "id": "sorted-newfoundland",
   "metadata": {},
   "source": [
    "## Patient 12 with days."
   ]
  },
  {
   "cell_type": "code",
   "execution_count": 48,
   "id": "assigned-heater",
   "metadata": {},
   "outputs": [
    {
     "data": {
      "text/html": [
       "<div>\n",
       "<style scoped>\n",
       "    .dataframe tbody tr th:only-of-type {\n",
       "        vertical-align: middle;\n",
       "    }\n",
       "\n",
       "    .dataframe tbody tr th {\n",
       "        vertical-align: top;\n",
       "    }\n",
       "\n",
       "    .dataframe thead th {\n",
       "        text-align: right;\n",
       "    }\n",
       "</style>\n",
       "<table border=\"1\" class=\"dataframe\">\n",
       "  <thead>\n",
       "    <tr style=\"text-align: right;\">\n",
       "      <th></th>\n",
       "      <th>Days after symptoms onset</th>\n",
       "      <th>IgG (S/CO)</th>\n",
       "      <th>IgM (S/CO)</th>\n",
       "    </tr>\n",
       "  </thead>\n",
       "  <tbody>\n",
       "    <tr>\n",
       "      <th>108</th>\n",
       "      <td>21</td>\n",
       "      <td>8.806</td>\n",
       "      <td>34.152</td>\n",
       "    </tr>\n",
       "    <tr>\n",
       "      <th>105</th>\n",
       "      <td>12</td>\n",
       "      <td>4.472</td>\n",
       "      <td>6.350</td>\n",
       "    </tr>\n",
       "    <tr>\n",
       "      <th>104</th>\n",
       "      <td>9</td>\n",
       "      <td>0.767</td>\n",
       "      <td>0.562</td>\n",
       "    </tr>\n",
       "    <tr>\n",
       "      <th>107</th>\n",
       "      <td>18</td>\n",
       "      <td>8.302</td>\n",
       "      <td>27.552</td>\n",
       "    </tr>\n",
       "    <tr>\n",
       "      <th>106</th>\n",
       "      <td>15</td>\n",
       "      <td>8.257</td>\n",
       "      <td>18.932</td>\n",
       "    </tr>\n",
       "  </tbody>\n",
       "</table>\n",
       "</div>"
      ],
      "text/plain": [
       "     Days after symptoms onset  IgG (S/CO)  IgM (S/CO)\n",
       "108                         21       8.806      34.152\n",
       "105                         12       4.472       6.350\n",
       "104                          9       0.767       0.562\n",
       "107                         18       8.302      27.552\n",
       "106                         15       8.257      18.932"
      ]
     },
     "execution_count": 48,
     "metadata": {},
     "output_type": "execute_result"
    }
   ],
   "source": [
    "data, data_wd,Days = pca_ind(12)\n",
    "data_wd"
   ]
  },
  {
   "cell_type": "code",
   "execution_count": 49,
   "id": "af96d6ee",
   "metadata": {},
   "outputs": [
    {
     "data": {
      "image/png": "[encoded data removed]",
      "text/plain": [
       "<Figure size 432x288 with 1 Axes>"
      ]
     },
     "metadata": {
      "needs_background": "light"
     },
     "output_type": "display_data"
    }
   ],
   "source": [
    "data_wd = data_wd.sort_values(by=\"Days after symptoms onset\")\n",
    "Days = np.sort(Days)\n",
    "\n",
    "plt.plot(Days, np.log2(data_wd['IgG (S/CO)']),'o-')\n",
    "plt.plot(Days, np.log2(data_wd['IgM (S/CO)']),'o-')\n",
    "plt.xlabel(\"Days after symptoms onset\")\n",
    "plt.ylabel(\"$log_2$(Antibody level)\")\n",
    "plt.legend([\"IgG (S/CO)\", \"IgM (S/CO)\"] )\n",
    "plt.show()"
   ]
  },
  {
   "cell_type": "code",
   "execution_count": 52,
   "id": "worthy-physiology",
   "metadata": {
    "scrolled": false
   },
   "outputs": [
    {
     "data": {
      "application/vnd.jupyter.widget-view+json": {
       "model_id": "12ad51c7031746a7be2c88075205955e",
       "version_major": 2,
       "version_minor": 0
      },
      "text/plain": [
       "FigureWidget({\n",
       "    'data': [{'hoverinfo': 'none',\n",
       "              'line': {'color': '#888', 'width': 1},\n",
       "       …"
      ]
     },
     "metadata": {},
     "output_type": "display_data"
    }
   ],
   "source": [
    "filter_func =PCA(n_components=2)\n",
    "cover = CubicalCover(n_intervals=100, overlap_frac=0.9852,kind='balanced') \n",
    "\n",
    "#500, 0.998\n",
    "\n",
    "clusterer = DBSCAN(eps = 0.1,metric='cosine')\n",
    "\n",
    "n_jobs = 1\n",
    "\n",
    "# Initialise pipeline\n",
    "pipe = make_mapper_pipeline(\n",
    "    scaler = MinMaxScaler(),\n",
    "    filter_func=filter_func,\n",
    "    cover=cover,\n",
    "    clusterer=clusterer,\n",
    "    #contract_nodes=True,\n",
    "    verbose=False,\n",
    "    n_jobs=n_jobs,\n",
    ")\n",
    "\n",
    "fig = plot_static_mapper_graph(pipe, data_wd, \n",
    "                                        layout_dim=2, \n",
    "                                        node_scale=20,\n",
    "                                        color_data = data_wd[['Days after symptoms onset']],\n",
    "                                        plotly_params = {\"layout\" : {\"font_size\":14}}\n",
    "                                       )\n",
    "fig\n",
    "#fig.write_image(\"images/SP_12_2.pdf\")"
   ]
  },
  {
   "cell_type": "markdown",
   "id": "8d31db11",
   "metadata": {},
   "source": [
    "## Patient 15 with days."
   ]
  },
  {
   "cell_type": "code",
   "execution_count": 53,
   "id": "3b778675",
   "metadata": {},
   "outputs": [
    {
     "data": {
      "text/html": [
       "<div>\n",
       "<style scoped>\n",
       "    .dataframe tbody tr th:only-of-type {\n",
       "        vertical-align: middle;\n",
       "    }\n",
       "\n",
       "    .dataframe tbody tr th {\n",
       "        vertical-align: top;\n",
       "    }\n",
       "\n",
       "    .dataframe thead th {\n",
       "        text-align: right;\n",
       "    }\n",
       "</style>\n",
       "<table border=\"1\" class=\"dataframe\">\n",
       "  <thead>\n",
       "    <tr style=\"text-align: right;\">\n",
       "      <th></th>\n",
       "      <th>Days after symptoms onset</th>\n",
       "      <th>IgG (S/CO)</th>\n",
       "      <th>IgM (S/CO)</th>\n",
       "    </tr>\n",
       "  </thead>\n",
       "  <tbody>\n",
       "    <tr>\n",
       "      <th>60</th>\n",
       "      <td>10</td>\n",
       "      <td>0.700</td>\n",
       "      <td>2.794</td>\n",
       "    </tr>\n",
       "    <tr>\n",
       "      <th>61</th>\n",
       "      <td>13</td>\n",
       "      <td>2.771</td>\n",
       "      <td>4.924</td>\n",
       "    </tr>\n",
       "    <tr>\n",
       "      <th>62</th>\n",
       "      <td>16</td>\n",
       "      <td>6.831</td>\n",
       "      <td>7.445</td>\n",
       "    </tr>\n",
       "    <tr>\n",
       "      <th>63</th>\n",
       "      <td>19</td>\n",
       "      <td>7.599</td>\n",
       "      <td>6.623</td>\n",
       "    </tr>\n",
       "    <tr>\n",
       "      <th>64</th>\n",
       "      <td>22</td>\n",
       "      <td>11.935</td>\n",
       "      <td>5.848</td>\n",
       "    </tr>\n",
       "  </tbody>\n",
       "</table>\n",
       "</div>"
      ],
      "text/plain": [
       "    Days after symptoms onset  IgG (S/CO)  IgM (S/CO)\n",
       "60                         10       0.700       2.794\n",
       "61                         13       2.771       4.924\n",
       "62                         16       6.831       7.445\n",
       "63                         19       7.599       6.623\n",
       "64                         22      11.935       5.848"
      ]
     },
     "execution_count": 53,
     "metadata": {},
     "output_type": "execute_result"
    }
   ],
   "source": [
    "data, data_wd,Days = pca_ind(15)\n",
    "data_wd"
   ]
  },
  {
   "cell_type": "code",
   "execution_count": 54,
   "id": "8d209994",
   "metadata": {},
   "outputs": [
    {
     "data": {
      "image/png": "[encoded data removed]",
      "text/plain": [
       "<Figure size 432x288 with 1 Axes>"
      ]
     },
     "metadata": {
      "needs_background": "light"
     },
     "output_type": "display_data"
    }
   ],
   "source": [
    "data_wd = data_wd.sort_values(by=\"Days after symptoms onset\")\n",
    "Days = np.sort(Days)\n",
    "\n",
    "plt.plot(Days, np.log2(data_wd['IgG (S/CO)']),'o-')\n",
    "plt.plot(Days, np.log2(data_wd['IgM (S/CO)']),'o-')\n",
    "plt.xlabel(\"Days after symptoms onset\")\n",
    "plt.ylabel(\"$log_2$(Antibody level)\")\n",
    "plt.legend([\"IgG (S/CO)\", \"IgM (S/CO)\"] )\n",
    "plt.show()"
   ]
  },
  {
   "cell_type": "code",
   "execution_count": 55,
   "id": "5e7daf76",
   "metadata": {
    "scrolled": false
   },
   "outputs": [
    {
     "data": {
      "application/vnd.jupyter.widget-view+json": {
       "model_id": "56ee8282d89d48f4935e3382039a3234",
       "version_major": 2,
       "version_minor": 0
      },
      "text/plain": [
       "FigureWidget({\n",
       "    'data': [{'hoverinfo': 'none',\n",
       "              'line': {'color': '#888', 'width': 1},\n",
       "       …"
      ]
     },
     "metadata": {},
     "output_type": "display_data"
    }
   ],
   "source": [
    "filter_func =PCA(n_components=2)\n",
    "cover = CubicalCover(n_intervals=100, overlap_frac=0.9852, kind= 'balanced') \n",
    "\n",
    "clusterer = DBSCAN(eps = 0.1,metric='cosine')\n",
    "\n",
    "n_jobs = 1\n",
    "\n",
    "# Initialise pipeline\n",
    "pipe = make_mapper_pipeline(\n",
    "    scaler = MinMaxScaler(),\n",
    "    filter_func=filter_func,\n",
    "    cover=cover,\n",
    "    clusterer=clusterer,\n",
    "    #contract_nodes=True,\n",
    "    verbose=False,\n",
    "    n_jobs=n_jobs,\n",
    ")\n",
    "\n",
    "fig = plot_static_mapper_graph(pipe, data_wd, \n",
    "                                        layout_dim=2, \n",
    "                                        node_scale=20,\n",
    "                                        color_data = data_wd[['Days after symptoms onset']],\n",
    "                                        plotly_params = {\"layout\" : {\"font_size\":14}}\n",
    "                                       )\n",
    "fig\n",
    "#fig.write_image(\"images/SP_15_2.pdf\")"
   ]
  },
  {
   "cell_type": "markdown",
   "id": "bc05907e",
   "metadata": {},
   "source": [
    "## Patient 20 with days."
   ]
  },
  {
   "cell_type": "code",
   "execution_count": 56,
   "id": "1115621a",
   "metadata": {},
   "outputs": [],
   "source": [
    "data, data_wd,Days = pca_ind(20)"
   ]
  },
  {
   "cell_type": "code",
   "execution_count": 57,
   "id": "148edc3e",
   "metadata": {},
   "outputs": [
    {
     "data": {
      "image/png": "[encoded data removed]",
      "text/plain": [
       "<Figure size 432x288 with 1 Axes>"
      ]
     },
     "metadata": {
      "needs_background": "light"
     },
     "output_type": "display_data"
    }
   ],
   "source": [
    "data_wd = data_wd.sort_values(by=\"Days after symptoms onset\")\n",
    "Days = np.sort(Days)\n",
    "\n",
    "plt.plot(Days, np.log2(data_wd['IgG (S/CO)']),'o-')\n",
    "plt.plot(Days, np.log2(data_wd['IgM (S/CO)']),'o-')\n",
    "plt.xlabel(\"Days after symptoms onset\")\n",
    "plt.ylabel(\"$log_2$(Antibody level)\")\n",
    "plt.legend([\"IgG (S/CO)\", \"IgM (S/CO)\"] )\n",
    "plt.show()"
   ]
  },
  {
   "cell_type": "code",
   "execution_count": 58,
   "id": "8b32fa73",
   "metadata": {
    "scrolled": false
   },
   "outputs": [
    {
     "data": {
      "application/vnd.jupyter.widget-view+json": {
       "model_id": "8177a3c2c2334eff8e5551876cd96dd4",
       "version_major": 2,
       "version_minor": 0
      },
      "text/plain": [
       "FigureWidget({\n",
       "    'data': [{'hoverinfo': 'none',\n",
       "              'line': {'color': '#888', 'width': 1},\n",
       "       …"
      ]
     },
     "metadata": {},
     "output_type": "display_data"
    }
   ],
   "source": [
    "filter_func =PCA(n_components=2)\n",
    "cover = CubicalCover(n_intervals=100, overlap_frac=0.98, kind='balanced') \n",
    "\n",
    "clusterer = DBSCAN(eps = 0.1,metric='cosine')\n",
    "\n",
    "n_jobs = 1\n",
    "\n",
    "# Initialise pipeline\n",
    "pipe = make_mapper_pipeline(\n",
    "    scaler = MinMaxScaler(),\n",
    "    filter_func=filter_func,\n",
    "    cover=cover,\n",
    "    clusterer=clusterer,\n",
    "    #contract_nodes=True,\n",
    "    verbose=False,\n",
    "    n_jobs=n_jobs,\n",
    ")\n",
    "\n",
    "fig = plot_static_mapper_graph(pipe, data_wd, \n",
    "                                        layout_dim=2, \n",
    "                                        node_scale=20,\n",
    "                                        color_data = data_wd[['Days after symptoms onset']],\n",
    "                                        plotly_params = {\"layout\" : {\"font_size\":14}}\n",
    "                                       )\n",
    "fig\n",
    "#fig.write_image(\"images/SP_20_2.pdf\")"
   ]
  },
  {
   "cell_type": "markdown",
   "id": "modern-constant",
   "metadata": {},
   "source": [
    "# NON SEVERAL"
   ]
  },
  {
   "cell_type": "markdown",
   "id": "creative-rings",
   "metadata": {},
   "source": [
    "## Patient 4 with days."
   ]
  },
  {
   "cell_type": "code",
   "execution_count": 59,
   "id": "buried-restoration",
   "metadata": {},
   "outputs": [],
   "source": [
    "data, data_wd,Days = pca_ind(4)"
   ]
  },
  {
   "cell_type": "code",
   "execution_count": 60,
   "id": "cb022bae",
   "metadata": {},
   "outputs": [
    {
     "data": {
      "image/png": "[encoded data removed]",
      "text/plain": [
       "<Figure size 432x288 with 1 Axes>"
      ]
     },
     "metadata": {
      "needs_background": "light"
     },
     "output_type": "display_data"
    }
   ],
   "source": [
    "data_wd = data_wd.sort_values(by=\"Days after symptoms onset\")\n",
    "Days = np.sort(Days)\n",
    "\n",
    "plt.plot(Days, np.log2(data_wd['IgG (S/CO)']),'o-')\n",
    "plt.plot(Days, np.log2(data_wd['IgM (S/CO)']),'o-')\n",
    "plt.xlabel(\"Days after symptoms onset\")\n",
    "plt.ylabel(\"$log_2$(Antibody level)\")\n",
    "plt.legend([\"IgG (S/CO)\", \"IgM (S/CO)\"] )\n",
    "plt.show()"
   ]
  },
  {
   "cell_type": "code",
   "execution_count": 61,
   "id": "coral-parks",
   "metadata": {
    "scrolled": false
   },
   "outputs": [],
   "source": [
    "filter_func =PCA(n_components=2)\n",
    "cover = CubicalCover(n_intervals=100, overlap_frac=0.98, kind='balanced') \n",
    "\n",
    "#0.9801\n",
    "\n",
    "\n",
    "clusterer = DBSCAN(eps = 0.1,metric='cosine')\n",
    "\n",
    "n_jobs = 1\n",
    "\n",
    "# Initialise pipeline\n",
    "pipe = make_mapper_pipeline(\n",
    "    scaler = MinMaxScaler(),\n",
    "    filter_func=filter_func,\n",
    "    cover=cover,\n",
    "    clusterer=clusterer,\n",
    "    #contract_nodes=True,\n",
    "    verbose=False,\n",
    "    n_jobs=n_jobs,\n",
    ")\n",
    "\n",
    "fig = plot_static_mapper_graph(pipe, data_wd, \n",
    "                                        layout_dim=2, \n",
    "                                        node_scale=20,\n",
    "                                        color_data = data_wd[['Days after symptoms onset']],\n",
    "                                        plotly_params = {\"layout\" : {\"font_size\":14}}\n",
    "                                       )\n",
    "fig\n",
    "fig.write_image(\"images/NSP_4_2.pdf\")"
   ]
  },
  {
   "cell_type": "markdown",
   "id": "painted-region",
   "metadata": {},
   "source": [
    "## Patient 13 with days."
   ]
  },
  {
   "cell_type": "code",
   "execution_count": 62,
   "id": "abstract-nebraska",
   "metadata": {},
   "outputs": [],
   "source": [
    "data, data_wd,Days = pca_ind(13)"
   ]
  },
  {
   "cell_type": "code",
   "execution_count": 63,
   "id": "9a74c58a",
   "metadata": {},
   "outputs": [
    {
     "data": {
      "image/png": "[encoded data removed]",
      "text/plain": [
       "<Figure size 432x288 with 1 Axes>"
      ]
     },
     "metadata": {
      "needs_background": "light"
     },
     "output_type": "display_data"
    }
   ],
   "source": [
    "data_wd = data_wd.sort_values(by=\"Days after symptoms onset\")\n",
    "Days = np.sort(Days)\n",
    "\n",
    "plt.plot(Days, np.log2(data_wd['IgG (S/CO)']),'o-')\n",
    "plt.plot(Days, np.log2(data_wd['IgM (S/CO)']),'o-')\n",
    "plt.xlabel(\"Days after symptoms onset\")\n",
    "plt.ylabel(\"$log_2$(Antibody level)\")\n",
    "plt.legend([\"IgG (S/CO)\", \"IgM (S/CO)\"] )\n",
    "plt.show()"
   ]
  },
  {
   "cell_type": "code",
   "execution_count": 64,
   "id": "prescription-manchester",
   "metadata": {
    "scrolled": false
   },
   "outputs": [
    {
     "data": {
      "application/vnd.jupyter.widget-view+json": {
       "model_id": "88c2157c0eda48beb58cfb09869150a3",
       "version_major": 2,
       "version_minor": 0
      },
      "text/plain": [
       "FigureWidget({\n",
       "    'data': [{'hoverinfo': 'none',\n",
       "              'line': {'color': '#888', 'width': 1},\n",
       "       …"
      ]
     },
     "metadata": {},
     "output_type": "display_data"
    }
   ],
   "source": [
    "filter_func =PCA(n_components=2)\n",
    "cover = CubicalCover(n_intervals=100, overlap_frac=0.982, kind='balanced') \n",
    "\n",
    "#50, 0.95,0.94\n",
    "\n",
    "clusterer = DBSCAN(eps = 0.1,metric='cosine')\n",
    "\n",
    "n_jobs = 1\n",
    "\n",
    "# Initialise pipeline\n",
    "pipe = make_mapper_pipeline(\n",
    "    scaler = MinMaxScaler(),\n",
    "    filter_func=filter_func,\n",
    "    cover=cover,\n",
    "    clusterer=clusterer,\n",
    "    #contract_nodes=True,\n",
    "    verbose=False,\n",
    "    n_jobs=n_jobs,\n",
    ")\n",
    "\n",
    "fig = plot_static_mapper_graph(pipe, data_wd, \n",
    "                                        layout_dim=2, \n",
    "                                        node_scale=20,\n",
    "                                        color_data = data_wd[['Days after symptoms onset']],\n",
    "                                        plotly_params = {\"layout\" : {\"font_size\":14}}\n",
    "                                       )\n",
    "fig\n",
    "#fig.write_image(\"images/NSP_13_2.pdf\")"
   ]
  },
  {
   "cell_type": "markdown",
   "id": "f193fb5b",
   "metadata": {},
   "source": [
    "## Patient 14 with days."
   ]
  },
  {
   "cell_type": "code",
   "execution_count": 65,
   "id": "f4df1f54",
   "metadata": {},
   "outputs": [],
   "source": [
    "data, data_wd,Days = pca_ind(14)"
   ]
  },
  {
   "cell_type": "code",
   "execution_count": 66,
   "id": "06d22a09",
   "metadata": {},
   "outputs": [
    {
     "data": {
      "image/png": "[encoded data removed]",
      "text/plain": [
       "<Figure size 432x288 with 1 Axes>"
      ]
     },
     "metadata": {
      "needs_background": "light"
     },
     "output_type": "display_data"
    }
   ],
   "source": [
    "data_wd = data_wd.sort_values(by=\"Days after symptoms onset\")\n",
    "Days = np.sort(Days)\n",
    "\n",
    "plt.plot(Days, np.log2(data_wd['IgG (S/CO)']),'o-')\n",
    "plt.plot(Days, np.log2(data_wd['IgM (S/CO)']),'o-')\n",
    "plt.xlabel(\"Days after symptoms onset\")\n",
    "plt.ylabel(\"$log_2$(Antibody level)\")\n",
    "plt.legend([\"IgG (S/CO)\", \"IgM (S/CO)\"] )\n",
    "plt.show()"
   ]
  },
  {
   "cell_type": "code",
   "execution_count": 67,
   "id": "8025b5ff",
   "metadata": {
    "scrolled": false
   },
   "outputs": [
    {
     "data": {
      "application/vnd.jupyter.widget-view+json": {
       "model_id": "db17f1cb22b4412b81d6f04c918edc1b",
       "version_major": 2,
       "version_minor": 0
      },
      "text/plain": [
       "FigureWidget({\n",
       "    'data': [{'hoverinfo': 'none',\n",
       "              'line': {'color': '#888', 'width': 1},\n",
       "       …"
      ]
     },
     "metadata": {},
     "output_type": "display_data"
    }
   ],
   "source": [
    "filter_func =PCA(n_components=2)\n",
    "cover = CubicalCover(n_intervals=100, overlap_frac=0.98, kind = 'balanced') \n",
    "#500, 0.997\n",
    "#500, 0.9967\n",
    "#50, 0.966\n",
    "\n",
    "clusterer = DBSCAN(eps = 0.1,metric='cosine')\n",
    "\n",
    "n_jobs = 1\n",
    "\n",
    "# Initialise pipeline\n",
    "pipe = make_mapper_pipeline(\n",
    "    scaler = MinMaxScaler(),\n",
    "    filter_func=filter_func,\n",
    "    cover=cover,\n",
    "    clusterer=clusterer,\n",
    "    #contract_nodes=True,\n",
    "    verbose=False,\n",
    "    n_jobs=n_jobs,\n",
    ")\n",
    "\n",
    "fig = plot_static_mapper_graph(pipe, data_wd, \n",
    "                                        layout_dim=2, \n",
    "                                        node_scale=20,\n",
    "                                        color_data = data_wd[['Days after symptoms onset']],\n",
    "                                        plotly_params = {\"layout\" : {\"font_size\":14}}\n",
    "                                       )\n",
    "fig\n",
    "#fig.write_image(\"images/NSP_14_2.pdf\")"
   ]
  },
  {
   "cell_type": "markdown",
   "id": "076517aa",
   "metadata": {},
   "source": [
    "## Patient 21 with days.********"
   ]
  },
  {
   "cell_type": "code",
   "execution_count": 68,
   "id": "a88a5f7b",
   "metadata": {},
   "outputs": [],
   "source": [
    "data, data_wd,Days = pca_ind(21)"
   ]
  },
  {
   "cell_type": "code",
   "execution_count": 69,
   "id": "fe491ba7",
   "metadata": {},
   "outputs": [
    {
     "data": {
      "image/png": "[encoded data removed]",
      "text/plain": [
       "<Figure size 432x288 with 1 Axes>"
      ]
     },
     "metadata": {
      "needs_background": "light"
     },
     "output_type": "display_data"
    }
   ],
   "source": [
    "data_wd = data_wd.sort_values(by=\"Days after symptoms onset\")\n",
    "Days = np.sort(Days)\n",
    "\n",
    "plt.plot(Days, np.log2(data_wd['IgG (S/CO)']),'o-')\n",
    "plt.plot(Days, np.log2(data_wd['IgM (S/CO)']),'o-')\n",
    "plt.xlabel(\"Days after symptoms onset\")\n",
    "plt.ylabel(\"$log_2$(Antibody level)\")\n",
    "plt.legend([\"IgG (S/CO)\", \"IgM (S/CO)\"] )\n",
    "plt.show()"
   ]
  },
  {
   "cell_type": "code",
   "execution_count": 70,
   "id": "e62c3583",
   "metadata": {
    "scrolled": false
   },
   "outputs": [
    {
     "data": {
      "application/vnd.jupyter.widget-view+json": {
       "model_id": "48e79e6ed46f43098ead05774c46f8d2",
       "version_major": 2,
       "version_minor": 0
      },
      "text/plain": [
       "FigureWidget({\n",
       "    'data': [{'hoverinfo': 'none',\n",
       "              'line': {'color': '#888', 'width': 1},\n",
       "       …"
      ]
     },
     "metadata": {},
     "output_type": "display_data"
    }
   ],
   "source": [
    "filter_func =PCA(n_components=2)\n",
    "cover = CubicalCover(n_intervals=100, overlap_frac=0.97, kind = 'balanced'\n",
    "                    ) \n",
    "\n",
    "#500,0.994\n",
    "#500,0.987\n",
    "\n",
    "#50, 0.94\n",
    "\n",
    "clusterer = DBSCAN(eps = 0.1,metric='cosine')\n",
    "\n",
    "n_jobs = 1\n",
    "\n",
    "# Initialise pipeline\n",
    "pipe = make_mapper_pipeline(\n",
    "    scaler = MinMaxScaler(),\n",
    "    filter_func=filter_func,\n",
    "    cover=cover,\n",
    "    clusterer=clusterer,\n",
    "    #contract_nodes=True,\n",
    "    verbose=False,\n",
    "    n_jobs=n_jobs,\n",
    ")\n",
    "\n",
    "fig = plot_static_mapper_graph(pipe, data_wd, \n",
    "                                        layout_dim=2, \n",
    "                                        node_scale=20,\n",
    "                                        color_data = data_wd[['Days after symptoms onset']],\n",
    "                                        plotly_params = {\"layout\" : {\"font_size\":14}}\n",
    "                                       )\n",
    "fig\n",
    "#fig.write_image(\"images/NSP_21_2.pdf\")"
   ]
  },
  {
   "cell_type": "markdown",
   "id": "annoying-space",
   "metadata": {},
   "source": [
    "## Patient 25 with days."
   ]
  },
  {
   "cell_type": "code",
   "execution_count": 71,
   "id": "worst-steering",
   "metadata": {},
   "outputs": [],
   "source": [
    "data, data_wd,Days = pca_ind(25)"
   ]
  },
  {
   "cell_type": "code",
   "execution_count": 72,
   "id": "4f8b186d",
   "metadata": {},
   "outputs": [
    {
     "data": {
      "image/png": "[encoded data removed]",
      "text/plain": [
       "<Figure size 432x288 with 1 Axes>"
      ]
     },
     "metadata": {
      "needs_background": "light"
     },
     "output_type": "display_data"
    }
   ],
   "source": [
    "data_wd = data_wd.sort_values(by=\"Days after symptoms onset\")\n",
    "Days = np.sort(Days)\n",
    "\n",
    "plt.plot(Days, np.log2(data_wd['IgG (S/CO)']),'o-')\n",
    "plt.plot(Days, np.log2(data_wd['IgM (S/CO)']),'o-')\n",
    "plt.xlabel(\"Days after symptoms onset\")\n",
    "plt.ylabel(\"$log_2$(Antibody level)\")\n",
    "plt.legend([\"IgG (S/CO)\", \"IgM (S/CO)\"] )\n",
    "plt.show()"
   ]
  },
  {
   "cell_type": "code",
   "execution_count": 73,
   "id": "d0583dd4",
   "metadata": {
    "scrolled": false
   },
   "outputs": [
    {
     "data": {
      "application/vnd.jupyter.widget-view+json": {
       "model_id": "a3d948f001f947e5811d050652b952f3",
       "version_major": 2,
       "version_minor": 0
      },
      "text/plain": [
       "FigureWidget({\n",
       "    'data': [{'hoverinfo': 'none',\n",
       "              'line': {'color': '#888', 'width': 1},\n",
       "       …"
      ]
     },
     "metadata": {},
     "output_type": "display_data"
    }
   ],
   "source": [
    "filter_func =PCA(n_components=2)\n",
    "cover = CubicalCover(n_intervals=100, overlap_frac=0.98, kind= 'balanced') \n",
    "\n",
    "#############500,0.98, 0.989,0.993, 0.94\n",
    "\n",
    "clusterer = DBSCAN(eps = 0.1,metric='cosine')\n",
    "\n",
    "n_jobs = 1\n",
    "\n",
    "# Initialise pipeline\n",
    "pipe = make_mapper_pipeline(\n",
    "    scaler = MinMaxScaler(),\n",
    "    filter_func=filter_func,\n",
    "    cover=cover,\n",
    "    clusterer=clusterer,\n",
    "    #contract_nodes=True,\n",
    "    verbose=False,\n",
    "    n_jobs=n_jobs,\n",
    ")\n",
    "\n",
    "fig = plot_static_mapper_graph(pipe, data_wd, \n",
    "                                        layout_dim=2, \n",
    "                                        node_scale=20,\n",
    "                                        color_data = data_wd[['Days after symptoms onset']],\n",
    "                                        plotly_params = {\"layout\" : {\"font_size\":14}}\n",
    "                                       )\n",
    "fig\n",
    "#fig.write_image(\"images/NSP_25_2.pdf\")"
   ]
  },
  {
   "cell_type": "code",
   "execution_count": 74,
   "id": "compatible-studio",
   "metadata": {},
   "outputs": [],
   "source": [
    "import matplotlib.pyplot as plt\n",
    "from matplotlib.backends.backend_pdf import PdfPages"
   ]
  },
  {
   "cell_type": "code",
   "execution_count": 75,
   "id": "electrical-thumbnail",
   "metadata": {},
   "outputs": [
    {
     "data": {
      "image/png": "[encoded data removed]",
      "text/plain": [
       "<Figure size 432x288 with 1 Axes>"
      ]
     },
     "metadata": {
      "needs_background": "light"
     },
     "output_type": "display_data"
    }
   ],
   "source": [
    "meta_table = plt.table(cellText=[['Filter', 'PCA(components = 2)'], \n",
    "     ['Clustering Algorithm', 'DBSCAN(eps = 0.1, metric = cosine)'],\n",
    "     ['Cover', 'Balanced'],\n",
    "     ['Intervals', '100'],\n",
    "     ['Overlapping', '97%-99%'],\n",
    "     ['Contract nodes', 'No']],\n",
    "         cellLoc = 'center',\n",
    "         loc = 'center',\n",
    "         colLoc = 'center',\n",
    "         rowLoc = 'center',\n",
    "         #cellColours = [['#E0CBBD','w'],['#E0CBBD','w'],['#E0CBBD','w'],['#E0CBBD','w'],['#E0CBBD','w'],['#E0CBBD','w']],\n",
    "         edges = 'closed',\n",
    "         #colWidths = [0.05,0.20,0.10,0.10,0.10]\n",
    "         )\n",
    "plt.axis('off')\n",
    "meta_table.auto_set_font_size(False)\n",
    "meta_table.set_fontsize(15)\n",
    "meta_table.scale(2,3)\n",
    "meta_fig = meta_table.figure\n",
    "\n",
    "pp = PdfPages(\"tabind1.pdf\")\n",
    "pp.savefig(meta_fig, bbox_inches='tight')\n",
    "pp.close()"
   ]
  },
  {
   "cell_type": "code",
   "execution_count": null,
   "id": "fresh-agency",
   "metadata": {},
   "outputs": [],
   "source": []
  }
 ],
 "metadata": {
  "kernelspec": {
   "display_name": "Python 3",
   "language": "python",
   "name": "python3"
  },
  "language_info": {
   "codemirror_mode": {
    "name": "ipython",
    "version": 3
   },
   "file_extension": ".py",
   "mimetype": "text/x-python",
   "name": "python",
   "nbconvert_exporter": "python",
   "pygments_lexer": "ipython3",
   "version": "3.7.10"
  }
 },
 "nbformat": 4,
 "nbformat_minor": 5
}
