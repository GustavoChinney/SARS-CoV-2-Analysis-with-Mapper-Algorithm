{
 "cells": [
  {
   "cell_type": "code",
   "execution_count": 1,
   "id": "funky-angola",
   "metadata": {},
   "outputs": [],
   "source": [
    "import numpy as np\n",
    "import pandas as pd\n",
    "from gtda.mapper import (\n",
    "    CubicalCover,\n",
    "    OneDimensionalCover,\n",
    "    make_mapper_pipeline,\n",
    "    Projection,\n",
    "    plot_static_mapper_graph,\n",
    "    plot_interactive_mapper_graph,\n",
    "    MapperInteractivePlotter\n",
    ")\n",
    "from gtda.mapper.cluster import ParallelClustering\n",
    "from gtda.mapper import Eccentricity,Entropy\n",
    "\n",
    "from sklearn.preprocessing import MinMaxScaler\n",
    "from sklearn.cluster import DBSCAN, KMeans,MiniBatchKMeans\n",
    "from sklearn.decomposition import PCA\n",
    "from sklearn.cluster import AgglomerativeClustering, OPTICS"
   ]
  },
  {
   "cell_type": "code",
   "execution_count": 2,
   "id": "complimentary-chassis",
   "metadata": {},
   "outputs": [],
   "source": [
    "import openpyxl\n",
    "xlsx = pd.ExcelFile('41591_2020_897_MOESM3_ESM.xlsx')\n",
    "df = pd.read_excel(xlsx, '(B) Figure 1B')"
   ]
  },
  {
   "cell_type": "code",
   "execution_count": 5,
   "id": "uniform-disposal",
   "metadata": {},
   "outputs": [],
   "source": [
    "df = df.rename({'Patient ID' : 'ID','IgG S/CO': 'IgG (S/CO)', 'IgM S/CO': 'IgM (S/CO)'}, axis=1)"
   ]
  },
  {
   "cell_type": "code",
   "execution_count": 6,
   "id": "convenient-institution",
   "metadata": {},
   "outputs": [],
   "source": [
    "df1 = df[['ID','Days after symptoms onset', 'IgG (S/CO)', 'IgM (S/CO)', 'Severity']]"
   ]
  },
  {
   "cell_type": "code",
   "execution_count": 8,
   "id": "infinite-imaging",
   "metadata": {},
   "outputs": [
    {
     "data": {
      "text/html": [
       "<div>\n",
       "<style scoped>\n",
       "    .dataframe tbody tr th:only-of-type {\n",
       "        vertical-align: middle;\n",
       "    }\n",
       "\n",
       "    .dataframe tbody tr th {\n",
       "        vertical-align: top;\n",
       "    }\n",
       "\n",
       "    .dataframe thead th {\n",
       "        text-align: right;\n",
       "    }\n",
       "</style>\n",
       "<table border=\"1\" class=\"dataframe\">\n",
       "  <thead>\n",
       "    <tr style=\"text-align: right;\">\n",
       "      <th></th>\n",
       "      <th>ID</th>\n",
       "      <th>Days after symptoms onset</th>\n",
       "      <th>IgG (S/CO)</th>\n",
       "      <th>IgM (S/CO)</th>\n",
       "    </tr>\n",
       "  </thead>\n",
       "  <tbody>\n",
       "    <tr>\n",
       "      <th>1</th>\n",
       "      <td>2</td>\n",
       "      <td>11</td>\n",
       "      <td>12.978</td>\n",
       "      <td>8.157</td>\n",
       "    </tr>\n",
       "    <tr>\n",
       "      <th>2</th>\n",
       "      <td>3</td>\n",
       "      <td>19</td>\n",
       "      <td>71.973</td>\n",
       "      <td>25.865</td>\n",
       "    </tr>\n",
       "    <tr>\n",
       "      <th>4</th>\n",
       "      <td>5</td>\n",
       "      <td>14</td>\n",
       "      <td>21.945</td>\n",
       "      <td>118.031</td>\n",
       "    </tr>\n",
       "    <tr>\n",
       "      <th>11</th>\n",
       "      <td>12</td>\n",
       "      <td>16</td>\n",
       "      <td>8.720</td>\n",
       "      <td>3.012</td>\n",
       "    </tr>\n",
       "    <tr>\n",
       "      <th>14</th>\n",
       "      <td>15</td>\n",
       "      <td>17</td>\n",
       "      <td>4.258</td>\n",
       "      <td>24.242</td>\n",
       "    </tr>\n",
       "  </tbody>\n",
       "</table>\n",
       "</div>"
      ],
      "text/plain": [
       "    ID  Days after symptoms onset  IgG (S/CO)  IgM (S/CO)\n",
       "1    2                         11      12.978       8.157\n",
       "2    3                         19      71.973      25.865\n",
       "4    5                         14      21.945     118.031\n",
       "11  12                         16       8.720       3.012\n",
       "14  15                         17       4.258      24.242"
      ]
     },
     "execution_count": 8,
     "metadata": {},
     "output_type": "execute_result"
    }
   ],
   "source": [
    "df1[df1['Severity']==1].drop(['Severity'],axis=1).head()"
   ]
  },
  {
   "cell_type": "code",
   "execution_count": 9,
   "id": "working-sending",
   "metadata": {},
   "outputs": [],
   "source": [
    "is_sever = df1['Severity'] == 1\n",
    "isnt_sever = df1['Severity'] == 0\n",
    "data_sever = df1[is_sever].drop(['Severity', 'ID'],axis=1)\n",
    "data_not_sever = df1[isnt_sever].drop(['Severity', 'ID'],axis=1)"
   ]
  },
  {
   "cell_type": "code",
   "execution_count": 10,
   "id": "operating-michigan",
   "metadata": {},
   "outputs": [
    {
     "data": {
      "text/plain": [
       "(39, 223)"
      ]
     },
     "execution_count": 10,
     "metadata": {},
     "output_type": "execute_result"
    }
   ],
   "source": [
    "len(data_sever),len(data_not_sever)"
   ]
  },
  {
   "cell_type": "code",
   "execution_count": 11,
   "id": "22c70841",
   "metadata": {},
   "outputs": [
    {
     "data": {
      "text/html": [
       "<div>\n",
       "<style scoped>\n",
       "    .dataframe tbody tr th:only-of-type {\n",
       "        vertical-align: middle;\n",
       "    }\n",
       "\n",
       "    .dataframe tbody tr th {\n",
       "        vertical-align: top;\n",
       "    }\n",
       "\n",
       "    .dataframe thead th {\n",
       "        text-align: right;\n",
       "    }\n",
       "</style>\n",
       "<table border=\"1\" class=\"dataframe\">\n",
       "  <thead>\n",
       "    <tr style=\"text-align: right;\">\n",
       "      <th></th>\n",
       "      <th>Days after symptoms onset</th>\n",
       "      <th>IgG (S/CO)</th>\n",
       "      <th>IgM (S/CO)</th>\n",
       "    </tr>\n",
       "  </thead>\n",
       "  <tbody>\n",
       "    <tr>\n",
       "      <th>1</th>\n",
       "      <td>11</td>\n",
       "      <td>12.978</td>\n",
       "      <td>8.157</td>\n",
       "    </tr>\n",
       "    <tr>\n",
       "      <th>2</th>\n",
       "      <td>19</td>\n",
       "      <td>71.973</td>\n",
       "      <td>25.865</td>\n",
       "    </tr>\n",
       "    <tr>\n",
       "      <th>4</th>\n",
       "      <td>14</td>\n",
       "      <td>21.945</td>\n",
       "      <td>118.031</td>\n",
       "    </tr>\n",
       "    <tr>\n",
       "      <th>11</th>\n",
       "      <td>16</td>\n",
       "      <td>8.720</td>\n",
       "      <td>3.012</td>\n",
       "    </tr>\n",
       "    <tr>\n",
       "      <th>14</th>\n",
       "      <td>17</td>\n",
       "      <td>4.258</td>\n",
       "      <td>24.242</td>\n",
       "    </tr>\n",
       "  </tbody>\n",
       "</table>\n",
       "</div>"
      ],
      "text/plain": [
       "    Days after symptoms onset  IgG (S/CO)  IgM (S/CO)\n",
       "1                          11      12.978       8.157\n",
       "2                          19      71.973      25.865\n",
       "4                          14      21.945     118.031\n",
       "11                         16       8.720       3.012\n",
       "14                         17       4.258      24.242"
      ]
     },
     "execution_count": 11,
     "metadata": {},
     "output_type": "execute_result"
    }
   ],
   "source": [
    "data_sever.head()"
   ]
  },
  {
   "cell_type": "markdown",
   "id": "judicial-original",
   "metadata": {},
   "source": [
    "# Severe"
   ]
  },
  {
   "cell_type": "markdown",
   "id": "sunrise-jewel",
   "metadata": {},
   "source": [
    "## Filter: PCA*"
   ]
  },
  {
   "cell_type": "code",
   "execution_count": 12,
   "id": "endangered-advocate",
   "metadata": {},
   "outputs": [],
   "source": [
    "filter_func =PCA(n_components=1)\n",
    "cover = CubicalCover(n_intervals=46, overlap_frac=0.8) \n",
    "#100,0.9; 210,0.95; 500,0.98 are is like 46,0.8\n",
    "\n",
    "\n",
    "clusterer = DBSCAN(eps = 0.01,metric='cosine')\n",
    "#clusterer = AgglomerativeClustering(n_clusters=3,linkage='single')\n",
    "\n",
    "\n",
    "n_jobs = 1\n",
    "\n",
    "# Initialise pipeline\n",
    "pipe = make_mapper_pipeline(\n",
    "    scaler = MinMaxScaler(),\n",
    "    filter_func=filter_func,\n",
    "    cover=cover,\n",
    "    clusterer=clusterer,\n",
    "    verbose=False,\n",
    "    n_jobs=n_jobs,\n",
    ")"
   ]
  },
  {
   "cell_type": "code",
   "execution_count": 13,
   "id": "elegant-annex",
   "metadata": {
    "scrolled": false
   },
   "outputs": [
    {
     "data": {
      "application/vnd.jupyter.widget-view+json": {
       "model_id": "ef971231b20640b184838bfc2055f989",
       "version_major": 2,
       "version_minor": 0
      },
      "text/plain": [
       "VBox(children=(HBox(children=(VBox(children=(HTML(value='<b>Cover parameters</b>'), Text(value='uniform', cont…"
      ]
     },
     "metadata": {},
     "output_type": "display_data"
    }
   ],
   "source": [
    "node_scale = 20\n",
    "fig = plot_interactive_mapper_graph(pipe, \n",
    "                                    data_sever, \n",
    "                                    layout_dim=2, \n",
    "                                    node_scale=node_scale,\n",
    "                                    color_data = data_sever\n",
    "                                   ),\n",
    "fig[0]"
   ]
  },
  {
   "cell_type": "code",
   "execution_count": 14,
   "id": "stable-milan",
   "metadata": {},
   "outputs": [
    {
     "name": "stdout",
     "output_type": "stream",
     "text": [
      "\n",
      "Node ID: 15\n",
      "Node elements: [ 3  5  7 14 19 21 23 26]\n",
      "Data points:      Days after symptoms onset  IgG (S/CO)  IgM (S/CO)\n",
      "11                          16       8.720       3.012\n",
      "19                          14       4.095       4.123\n",
      "33                          16       9.253      11.941\n",
      "103                         17      14.238       2.216\n",
      "147                         21      77.231       2.870\n",
      "149                         15      29.264      82.047\n",
      "153                         19      60.968      14.376\n",
      "161                         16       7.014       2.501\n",
      "\n"
     ]
    }
   ],
   "source": [
    "graph = pipe.fit_transform(data_sever)\n",
    "\n",
    "node_id = 15\n",
    "node_elements = graph.vs[\"node_elements\"]\n",
    "\n",
    "print(f\"\"\"\n",
    "Node ID: {node_id}\n",
    "Node elements: {node_elements[node_id]}\n",
    "Data points: {data_sever.iloc[node_elements[node_id]]}\n",
    "\"\"\")"
   ]
  },
  {
   "cell_type": "markdown",
   "id": "technological-hygiene",
   "metadata": {},
   "source": [
    "## Filter: Eccentricity**"
   ]
  },
  {
   "cell_type": "code",
   "execution_count": 15,
   "id": "indoor-attribute",
   "metadata": {},
   "outputs": [],
   "source": [
    "filter_func = Eccentricity(exponent = 1)\n",
    "\n",
    "cover = OneDimensionalCover(n_intervals=82, overlap_frac=0.95, kind = \"balanced\")#70,0.9\n",
    "\n",
    "\n",
    "clusterer = DBSCAN(eps = 0.1,metric='cosine',min_samples=3)\n",
    "\n",
    "n_jobs = 1\n",
    "\n",
    "# Initialise pipeline\n",
    "pipe = make_mapper_pipeline(\n",
    "    scaler = MinMaxScaler(),\n",
    "    filter_func=filter_func,\n",
    "    cover=cover,\n",
    "    clusterer=clusterer,\n",
    "    verbose=False,\n",
    "    n_jobs=n_jobs,\n",
    ")\n",
    "\n",
    "##############Checar \"balanced\" 64, 0.94"
   ]
  },
  {
   "cell_type": "code",
   "execution_count": 16,
   "id": "unexpected-serial",
   "metadata": {
    "scrolled": false
   },
   "outputs": [
    {
     "data": {
      "application/vnd.jupyter.widget-view+json": {
       "model_id": "44d043ad653048ef88a78b5566195717",
       "version_major": 2,
       "version_minor": 0
      },
      "text/plain": [
       "VBox(children=(HBox(children=(VBox(children=(HTML(value='<b>Cover parameters</b>'), Text(value='balanced', con…"
      ]
     },
     "metadata": {},
     "output_type": "display_data"
    }
   ],
   "source": [
    "node_scale = 30\n",
    "fig = plot_interactive_mapper_graph(pipe, \n",
    "                                    data_sever, \n",
    "                                    layout_dim=3, \n",
    "                                    node_scale=node_scale,\n",
    "                                    node_color_statistic=np.mean,\n",
    "                                    color_data = data_sever),\n",
    "fig[0]"
   ]
  },
  {
   "cell_type": "code",
   "execution_count": 17,
   "id": "processed-lighting",
   "metadata": {},
   "outputs": [],
   "source": [
    "graph = pipe.fit_transform(data_sever)"
   ]
  },
  {
   "cell_type": "code",
   "execution_count": 18,
   "id": "b41a7b18",
   "metadata": {},
   "outputs": [],
   "source": [
    "def Nodes(nodes, data_sever,pipe):\n",
    "    graph = pipe.fit_transform(data_sever)\n",
    "    for i in nodes:\n",
    "        node_id = i\n",
    "        node_elements = graph.vs[\"node_elements\"]\n",
    "        print(f\"\"\"\n",
    "        Node ID: {node_id}\n",
    "        Node elements: {node_elements[node_id]}\n",
    "        Data points: \\n{data_sever.iloc[node_elements[node_id]]}\n",
    "        \"\"\")"
   ]
  },
  {
   "cell_type": "code",
   "execution_count": 19,
   "id": "25479e58",
   "metadata": {},
   "outputs": [
    {
     "name": "stdout",
     "output_type": "stream",
     "text": [
      "\n",
      "        Node ID: 10\n",
      "        Node elements: [ 1 24 30]\n",
      "        Data points: \n",
      "     Days after symptoms onset  IgG (S/CO)  IgM (S/CO)\n",
      "2                           19      71.973      25.865\n",
      "155                         10      72.264       1.787\n",
      "187                         12      90.705       8.982\n",
      "        \n",
      "\n",
      "        Node ID: 11\n",
      "        Node elements: [ 1 24 30]\n",
      "        Data points: \n",
      "     Days after symptoms onset  IgG (S/CO)  IgM (S/CO)\n",
      "2                           19      71.973      25.865\n",
      "155                         10      72.264       1.787\n",
      "187                         12      90.705       8.982\n",
      "        \n",
      "\n",
      "        Node ID: 12\n",
      "        Node elements: [ 1 19 24 30]\n",
      "        Data points: \n",
      "     Days after symptoms onset  IgG (S/CO)  IgM (S/CO)\n",
      "2                           19      71.973      25.865\n",
      "147                         21      77.231       2.870\n",
      "155                         10      72.264       1.787\n",
      "187                         12      90.705       8.982\n",
      "        \n",
      "\n",
      "        Node ID: 13\n",
      "        Node elements: [ 1 19 30]\n",
      "        Data points: \n",
      "     Days after symptoms onset  IgG (S/CO)  IgM (S/CO)\n",
      "2                           19      71.973      25.865\n",
      "147                         21      77.231       2.870\n",
      "187                         12      90.705       8.982\n",
      "        \n",
      "\n",
      "        Node ID: 14\n",
      "        Node elements: [ 1 19 30]\n",
      "        Data points: \n",
      "     Days after symptoms onset  IgG (S/CO)  IgM (S/CO)\n",
      "2                           19      71.973      25.865\n",
      "147                         21      77.231       2.870\n",
      "187                         12      90.705       8.982\n",
      "        \n"
     ]
    }
   ],
   "source": [
    "Nodes([10,11,12,13,14], data_sever, pipe)"
   ]
  },
  {
   "cell_type": "code",
   "execution_count": 21,
   "id": "ceda9678",
   "metadata": {},
   "outputs": [],
   "source": [
    "filter_func = Eccentricity(exponent = 1)\n",
    "\n",
    "cover = OneDimensionalCover(n_intervals=100, overlap_frac=0.97,kind='balanced')\n",
    "\n",
    "\n",
    "clusterer = DBSCAN(eps = 0.1,metric='cosine',min_samples=3)\n",
    "\n",
    "n_jobs = 1\n",
    "\n",
    "# Initialise pipeline\n",
    "pipe = make_mapper_pipeline(\n",
    "    scaler = MinMaxScaler(),\n",
    "    filter_func=filter_func,\n",
    "    cover=cover,\n",
    "    clusterer=clusterer,\n",
    "    contract_nodes=True,\n",
    "    verbose=False,\n",
    "    n_jobs=n_jobs,\n",
    ")\n",
    "\n",
    "\n",
    "\n",
    "\n",
    "############## \"balanced\" 64, 0.94"
   ]
  },
  {
   "cell_type": "code",
   "execution_count": 22,
   "id": "0c5f54e0",
   "metadata": {
    "scrolled": false
   },
   "outputs": [
    {
     "data": {
      "application/vnd.jupyter.widget-view+json": {
       "model_id": "81b8631911f445d2b647daa29d5eec05",
       "version_major": 2,
       "version_minor": 0
      },
      "text/plain": [
       "VBox(children=(HBox(children=(VBox(children=(HTML(value='<b>Cover parameters</b>'), Text(value='balanced', con…"
      ]
     },
     "metadata": {},
     "output_type": "display_data"
    }
   ],
   "source": [
    "node_scale = 30\n",
    "fig = plot_interactive_mapper_graph(pipe, \n",
    "                                    data_sever, \n",
    "                                    layout_dim=2, \n",
    "                                    node_scale=node_scale,\n",
    "                                    node_color_statistic=None,\n",
    "                                    color_data = data_sever),\n",
    "fig[0]"
   ]
  },
  {
   "cell_type": "code",
   "execution_count": 23,
   "id": "6677861f",
   "metadata": {},
   "outputs": [],
   "source": [
    "graph = pipe.fit_transform(data_sever)"
   ]
  },
  {
   "cell_type": "code",
   "execution_count": 24,
   "id": "3f8f91f6",
   "metadata": {},
   "outputs": [],
   "source": [
    "def Nodes(nodes, data_sever ,pipe):\n",
    "    graph = pipe.fit_transform(data_sever)\n",
    "    for i in nodes:\n",
    "        node_id = i\n",
    "        node_elements = graph.vs[\"node_elements\"]\n",
    "        print(f\"\"\"\n",
    "        Node ID: {node_id}\n",
    "        Node elements: {node_elements[node_id]}\n",
    "        Data points: \\n{data_sever.iloc[node_elements[node_id]]}\n",
    "        \"\"\")"
   ]
  },
  {
   "cell_type": "code",
   "execution_count": 25,
   "id": "c66d21e4",
   "metadata": {
    "scrolled": true
   },
   "outputs": [
    {
     "name": "stdout",
     "output_type": "stream",
     "text": [
      "\n",
      "        Node ID: 0\n",
      "        Node elements: [ 0  3  5  6  7 13 14 22 26 29]\n",
      "        Data points: \n",
      "     Days after symptoms onset  IgG (S/CO)  IgM (S/CO)\n",
      "1                           11      12.978       8.157\n",
      "11                          16       8.720       3.012\n",
      "19                          14       4.095       4.123\n",
      "32                          10      42.440       0.813\n",
      "33                          16       9.253      11.941\n",
      "100                         12      27.979       5.048\n",
      "103                         17      14.238       2.216\n",
      "152                         12      27.511      20.625\n",
      "161                         16       7.014       2.501\n",
      "185                         16      55.371      17.215\n",
      "        \n",
      "\n",
      "        Node ID: 1\n",
      "        Node elements: [ 0  3  5  6  7 14 22 26 29]\n",
      "        Data points: \n",
      "     Days after symptoms onset  IgG (S/CO)  IgM (S/CO)\n",
      "1                           11      12.978       8.157\n",
      "11                          16       8.720       3.012\n",
      "19                          14       4.095       4.123\n",
      "32                          10      42.440       0.813\n",
      "33                          16       9.253      11.941\n",
      "103                         17      14.238       2.216\n",
      "152                         12      27.511      20.625\n",
      "161                         16       7.014       2.501\n",
      "185                         16      55.371      17.215\n",
      "        \n",
      "\n",
      "        Node ID: 9\n",
      "        Node elements: [4]\n",
      "        Data points: \n",
      "    Days after symptoms onset  IgG (S/CO)  IgM (S/CO)\n",
      "14                         17       4.258      24.242\n",
      "        \n",
      "\n",
      "        Node ID: 7\n",
      "        Node elements: [ 3  5  6  7 10 14 26 29 33]\n",
      "        Data points: \n",
      "     Days after symptoms onset  IgG (S/CO)  IgM (S/CO)\n",
      "11                          16       8.720       3.012\n",
      "19                          14       4.095       4.123\n",
      "32                          10      42.440       0.813\n",
      "33                          16       9.253      11.941\n",
      "69                           9      16.736       3.303\n",
      "103                         17      14.238       2.216\n",
      "161                         16       7.014       2.501\n",
      "185                         16      55.371      17.215\n",
      "230                         10       6.405       1.012\n",
      "        \n",
      "\n",
      "        Node ID: 10\n",
      "        Node elements: [ 6 10 14 15 16 26 29 33]\n",
      "        Data points: \n",
      "     Days after symptoms onset  IgG (S/CO)  IgM (S/CO)\n",
      "32                          10      42.440       0.813\n",
      "69                           9      16.736       3.303\n",
      "103                         17      14.238       2.216\n",
      "104                         10       2.156       0.178\n",
      "108                         17      69.233       4.604\n",
      "161                         16       7.014       2.501\n",
      "185                         16      55.371      17.215\n",
      "230                         10       6.405       1.012\n",
      "        \n",
      "\n",
      "        Node ID: 11\n",
      "        Node elements: [ 6  8 10 14 15 16 20 26 33]\n",
      "        Data points: \n",
      "     Days after symptoms onset  IgG (S/CO)  IgM (S/CO)\n",
      "32                          10      42.440       0.813\n",
      "47                          10      62.749       1.120\n",
      "69                           9      16.736       3.303\n",
      "103                         17      14.238       2.216\n",
      "104                         10       2.156       0.178\n",
      "108                         17      69.233       4.604\n",
      "148                          9       2.171       0.279\n",
      "161                         16       7.014       2.501\n",
      "230                         10       6.405       1.012\n",
      "        \n"
     ]
    }
   ],
   "source": [
    "Nodes([0,1,9,7,10,11], data_sever, pipe)"
   ]
  },
  {
   "cell_type": "code",
   "execution_count": 26,
   "id": "7de12b7d",
   "metadata": {},
   "outputs": [
    {
     "name": "stdout",
     "output_type": "stream",
     "text": [
      "\n",
      "        Node ID: 21\n",
      "        Node elements: [12 18 34 36]\n",
      "        Data points: \n",
      "     Days after symptoms onset  IgG (S/CO)  IgM (S/CO)\n",
      "92                           9       0.933       0.482\n",
      "146                          8       3.091       4.008\n",
      "237                         19      10.630      23.847\n",
      "241                         19       4.860       3.188\n",
      "        \n"
     ]
    }
   ],
   "source": [
    "Nodes([21], data_sever, pipe)"
   ]
  },
  {
   "cell_type": "code",
   "execution_count": 27,
   "id": "0a529d78",
   "metadata": {},
   "outputs": [
    {
     "name": "stdout",
     "output_type": "stream",
     "text": [
      "\n",
      "        Node ID: 20\n",
      "        Node elements: [12 15 20]\n",
      "        Data points: \n",
      "     Days after symptoms onset  IgG (S/CO)  IgM (S/CO)\n",
      "92                           9       0.933       0.482\n",
      "104                         10       2.156       0.178\n",
      "148                          9       2.171       0.279\n",
      "        \n"
     ]
    }
   ],
   "source": [
    "Nodes([20], data_sever, pipe)"
   ]
  },
  {
   "cell_type": "markdown",
   "id": "555fbc94",
   "metadata": {},
   "source": [
    "If we want to create a refinement of covers in order to search persistence features, settle a cover wich intervals are of the same length eases the work. If $M= \\max \\lbrace f(x): x\\in X\\rbrace$, $m= \\min \\lbrace f(x): x\\in X\\rbrace$, $l$ is the common length of the intervals, $n$ is the number of intervals and $q\\in (0,1)$ is the overlapping percentage, then is easy to see that\n",
    "\n",
    "$$l(n(1-q)+1) = M-m$$\n",
    "\n",
    "Then, if we want a refinement of covers with percentages $1\\%, 4\\%, 18\\%, 30\\%, 90\\%$ and $l = 0.3(M-m)$, we can calculate the number of intervals that we need."
   ]
  },
  {
   "cell_type": "code",
   "execution_count": 28,
   "id": "042403fa",
   "metadata": {},
   "outputs": [],
   "source": [
    "percen = np.array([(3*k-7)/(3*k) for k in range(1003,1100) ])"
   ]
  },
  {
   "cell_type": "code",
   "execution_count": 29,
   "id": "046751b7",
   "metadata": {},
   "outputs": [
    {
     "data": {
      "text/plain": [
       "3804.4280745158276"
      ]
     },
     "execution_count": 29,
     "metadata": {},
     "output_type": "execute_result"
    }
   ],
   "source": [
    "fil = Eccentricity(exponent = 1).fit_transform(data_sever)\n",
    "M, m = np.max(fil),np.min(fil)\n",
    "M-m"
   ]
  },
  {
   "cell_type": "code",
   "execution_count": 30,
   "id": "a92b41c3",
   "metadata": {},
   "outputs": [
    {
     "data": {
      "text/plain": [
       "97"
      ]
     },
     "execution_count": 30,
     "metadata": {},
     "output_type": "execute_result"
    }
   ],
   "source": [
    "n = 7/3*1/(1-percen)\n",
    "len(n)"
   ]
  },
  {
   "cell_type": "code",
   "execution_count": 31,
   "id": "ef0d673e",
   "metadata": {
    "scrolled": false
   },
   "outputs": [],
   "source": [
    "val = np.concatenate((n.reshape(97,1), percen.reshape(97,1)), axis=1)"
   ]
  },
  {
   "cell_type": "code",
   "execution_count": 32,
   "id": "4cf32ba7",
   "metadata": {},
   "outputs": [],
   "source": [
    "filter_func = Eccentricity(exponent = 1)\n",
    "\n",
    "cover = OneDimensionalCover(n_intervals=82, overlap_frac=0.85)#70,0.9\n",
    "\n",
    "\n",
    "clusterer = DBSCAN(eps = 0.1,metric='cosine',min_samples=3)\n",
    "\n",
    "n_jobs = 1\n",
    "\n",
    "# Initialise pipeline\n",
    "pipe = make_mapper_pipeline(\n",
    "    scaler = MinMaxScaler(),\n",
    "    filter_func=filter_func,\n",
    "    cover=cover,\n",
    "    clusterer=clusterer,\n",
    "    verbose=False,\n",
    "    n_jobs=n_jobs,\n",
    ")\n",
    "\n",
    "##############Checar \"balanced\" 64, 0.94"
   ]
  },
  {
   "cell_type": "code",
   "execution_count": 33,
   "id": "c914c2d1",
   "metadata": {
    "scrolled": false
   },
   "outputs": [
    {
     "data": {
      "application/vnd.jupyter.widget-view+json": {
       "model_id": "969e27f3782f452292d179127087d722",
       "version_major": 2,
       "version_minor": 0
      },
      "text/plain": [
       "VBox(children=(HBox(children=(VBox(children=(HTML(value='<b>Cover parameters</b>'), Text(value='uniform', cont…"
      ]
     },
     "metadata": {},
     "output_type": "display_data"
    }
   ],
   "source": [
    "fig = plot_interactive_mapper_graph(pipe, \n",
    "                                    data_sever, \n",
    "                                    layout_dim=2, \n",
    "                                    node_scale=30,\n",
    "                                    node_color_statistic=np.mean,\n",
    "                                    color_data = data_sever),\n",
    "fig[0]"
   ]
  },
  {
   "cell_type": "code",
   "execution_count": 34,
   "id": "3a7417bf",
   "metadata": {},
   "outputs": [],
   "source": [
    "graph = pipe.fit_transform(data_sever)"
   ]
  },
  {
   "cell_type": "code",
   "execution_count": 35,
   "id": "d435e445",
   "metadata": {},
   "outputs": [],
   "source": [
    "def Nodes(nodes, data_sever,pipe):\n",
    "    graph = pipe.fit_transform(data_sever)\n",
    "    for i in nodes:\n",
    "        node_id = i\n",
    "        node_elements = graph.vs[\"node_elements\"]\n",
    "        print(f\"\"\"\n",
    "        Node ID: {node_id}\n",
    "        Node elements: {node_elements[node_id]}\n",
    "        Data points: \\n{data_sever.iloc[node_elements[node_id]]}\n",
    "        \"\"\")"
   ]
  },
  {
   "cell_type": "code",
   "execution_count": 36,
   "id": "6d44f0b6",
   "metadata": {},
   "outputs": [
    {
     "name": "stdout",
     "output_type": "stream",
     "text": [
      "\n",
      "        Node ID: 27\n",
      "        Node elements: [ 9 19 32 35 37]\n",
      "        Data points: \n",
      "     Days after symptoms onset  IgG (S/CO)  IgM (S/CO)\n",
      "49                           6       0.249       0.430\n",
      "147                         21      77.231       2.870\n",
      "194                         12     114.250       3.311\n",
      "239                         23       7.389      18.280\n",
      "254                         23      16.735      12.472\n",
      "        \n"
     ]
    }
   ],
   "source": [
    "Nodes([27], data_sever, pipe)"
   ]
  },
  {
   "cell_type": "code",
   "execution_count": 37,
   "id": "73936232",
   "metadata": {},
   "outputs": [],
   "source": [
    "percen = np.array([(k)/(k+3) for k in range(3,100) ])"
   ]
  },
  {
   "cell_type": "code",
   "execution_count": 38,
   "id": "c6804849",
   "metadata": {},
   "outputs": [
    {
     "data": {
      "text/plain": [
       "3804.4280745158276"
      ]
     },
     "execution_count": 38,
     "metadata": {},
     "output_type": "execute_result"
    }
   ],
   "source": [
    "fil = Eccentricity(exponent = 1).fit_transform(data_sever)\n",
    "M, m = np.max(fil),np.min(fil)\n",
    "M-m"
   ]
  },
  {
   "cell_type": "code",
   "execution_count": 39,
   "id": "100ef29d",
   "metadata": {},
   "outputs": [
    {
     "data": {
      "text/plain": [
       "97"
      ]
     },
     "execution_count": 39,
     "metadata": {},
     "output_type": "execute_result"
    }
   ],
   "source": [
    "n = (1/0.1 -1)*1/(1-percen)\n",
    "len(n)"
   ]
  },
  {
   "cell_type": "code",
   "execution_count": 40,
   "id": "175379c6",
   "metadata": {
    "scrolled": false
   },
   "outputs": [],
   "source": [
    "val = np.concatenate((n.reshape(97,1), percen.reshape(97,1)), axis=1)"
   ]
  },
  {
   "cell_type": "markdown",
   "id": "c7d3c605",
   "metadata": {},
   "source": [
    "## Another experiment"
   ]
  },
  {
   "cell_type": "code",
   "execution_count": 41,
   "id": "fe2da8f9",
   "metadata": {},
   "outputs": [],
   "source": [
    "filter_func = Eccentricity(exponent = 2,metric= 'cosine')\n",
    "\n",
    "cover = OneDimensionalCover(n_intervals=60, overlap_frac=0.9,kind='balanced')\n",
    "\n",
    "\n",
    "clusterer = DBSCAN(eps = 0.01,metric='cosine',min_samples=3)\n",
    "\n",
    "n_jobs = 1\n",
    "\n",
    "# Initialise pipeline\n",
    "pipe = make_mapper_pipeline(\n",
    "    scaler = MinMaxScaler(),\n",
    "    filter_func=filter_func,\n",
    "    cover=cover,\n",
    "    clusterer=clusterer,\n",
    "    contract_nodes=True,\n",
    "    verbose=False,\n",
    "    n_jobs=n_jobs,\n",
    ")\n",
    "\n",
    "\n",
    "\n",
    "\n",
    "##############Checar \"balanced\" 64, 0.94"
   ]
  },
  {
   "cell_type": "code",
   "execution_count": 42,
   "id": "9f049b5c",
   "metadata": {
    "scrolled": false
   },
   "outputs": [
    {
     "data": {
      "application/vnd.jupyter.widget-view+json": {
       "model_id": "e1e03cec86b746bca9c9aa8a7efea47c",
       "version_major": 2,
       "version_minor": 0
      },
      "text/plain": [
       "VBox(children=(HBox(children=(VBox(children=(HTML(value='<b>Cover parameters</b>'), Text(value='balanced', con…"
      ]
     },
     "metadata": {},
     "output_type": "display_data"
    }
   ],
   "source": [
    "node_scale = 25\n",
    "fig = plot_interactive_mapper_graph(pipe, \n",
    "                                    data_sever, \n",
    "                                    layout_dim=2, \n",
    "                                    node_scale=node_scale,\n",
    "                                    node_color_statistic=np.mean,\n",
    "                                    color_data = data_sever),\n",
    "fig[0]"
   ]
  },
  {
   "cell_type": "code",
   "execution_count": 43,
   "id": "powered-campbell",
   "metadata": {},
   "outputs": [],
   "source": [
    "filter_func = Eccentricity(exponent = 2,metric= 'cosine')\n",
    "\n",
    "cover = OneDimensionalCover(n_intervals=60, overlap_frac=0.9,kind='balanced')\n",
    "\n",
    "\n",
    "clusterer = DBSCAN(eps = 0.01,metric='cosine',min_samples=3)\n",
    "\n",
    "n_jobs = 1\n",
    "\n",
    "# Initialise pipeline\n",
    "pipe = make_mapper_pipeline(\n",
    "    scaler = MinMaxScaler(),\n",
    "    filter_func=filter_func,\n",
    "    cover=cover,\n",
    "    clusterer=clusterer,\n",
    "    contract_nodes=True,\n",
    "    verbose=False,\n",
    "    n_jobs=n_jobs,\n",
    ")\n",
    "\n",
    "node_scale = 25\n",
    "fig = plot_static_mapper_graph(pipe, \n",
    "                                    data_sever, \n",
    "                                    layout_dim=2, \n",
    "                                    node_scale=node_scale,\n",
    "                                    node_color_statistic=np.mean,\n",
    "                                    color_data = data_sever[['IgG (S/CO)']],\n",
    "                                    plotly_params = {\"layout\" : {\"font_size\":14}})\n",
    "fig.write_image(\"images/sev_ig.pdf\")"
   ]
  },
  {
   "cell_type": "code",
   "execution_count": 44,
   "id": "nearby-health",
   "metadata": {},
   "outputs": [],
   "source": [
    "filter_func = Eccentricity(exponent = 2,metric= 'cosine')\n",
    "\n",
    "cover = OneDimensionalCover(n_intervals=60, overlap_frac=0.9,kind='balanced')\n",
    "\n",
    "\n",
    "clusterer = DBSCAN(eps = 0.01,metric='cosine',min_samples=3)\n",
    "\n",
    "n_jobs = 1\n",
    "\n",
    "# Initialise pipeline\n",
    "pipe = make_mapper_pipeline(\n",
    "    scaler = MinMaxScaler(),\n",
    "    filter_func=filter_func,\n",
    "    cover=cover,\n",
    "    clusterer=clusterer,\n",
    "    contract_nodes=True,\n",
    "    verbose=False,\n",
    "    n_jobs=n_jobs,\n",
    ")\n",
    "\n",
    "node_scale = 25\n",
    "fig = plot_static_mapper_graph(pipe, \n",
    "                                    data_sever, \n",
    "                                    layout_dim=2, \n",
    "                                    node_scale=node_scale,\n",
    "                                    node_color_statistic=np.mean,\n",
    "                                    color_data = data_sever[['IgM (S/CO)']],\n",
    "                                    plotly_params = {\"layout\" : {\"font_size\":14}})\n",
    "fig.write_image(\"images/sev_im.pdf\")"
   ]
  },
  {
   "cell_type": "code",
   "execution_count": 45,
   "id": "clear-cursor",
   "metadata": {},
   "outputs": [],
   "source": [
    "filter_func = Eccentricity(exponent = 2,metric= 'cosine')\n",
    "\n",
    "cover = OneDimensionalCover(n_intervals=60, overlap_frac=0.9,kind='balanced')\n",
    "\n",
    "\n",
    "clusterer = DBSCAN(eps = 0.01,metric='cosine',min_samples=3)\n",
    "\n",
    "n_jobs = 1\n",
    "\n",
    "# Initialise pipeline\n",
    "pipe = make_mapper_pipeline(\n",
    "    scaler = MinMaxScaler(),\n",
    "    filter_func=filter_func,\n",
    "    cover=cover,\n",
    "    clusterer=clusterer,\n",
    "    contract_nodes=True,\n",
    "    verbose=False,\n",
    "    n_jobs=n_jobs,\n",
    ")\n",
    "\n",
    "node_scale = 25\n",
    "fig = plot_static_mapper_graph(pipe, \n",
    "                                    data_sever, \n",
    "                                    layout_dim=2, \n",
    "                                    node_scale=node_scale,\n",
    "                                    node_color_statistic=np.mean,\n",
    "                                    color_data = data_sever[['Days after symptoms onset']],\n",
    "                                    plotly_params = {\"layout\" : {\"font_size\":14}})\n",
    "fig.write_image(\"images/sev_d.pdf\")"
   ]
  },
  {
   "cell_type": "code",
   "execution_count": 46,
   "id": "91f55e72",
   "metadata": {},
   "outputs": [],
   "source": [
    "import matplotlib.pyplot as plt\n",
    "from matplotlib.backends.backend_pdf import PdfPages"
   ]
  },
  {
   "cell_type": "code",
   "execution_count": 48,
   "id": "starting-company",
   "metadata": {},
   "outputs": [
    {
     "data": {
      "image/png": "[encoded data removed]",
      "text/plain": [
       "<Figure size 432x288 with 1 Axes>"
      ]
     },
     "metadata": {
      "needs_background": "light"
     },
     "output_type": "display_data"
    }
   ],
   "source": [
    "meta_table = plt.table(cellText=[['Filter', 'Eccentricity(exp = 2, metric = cosine)'], \n",
    "     ['Clustering Algorithm', 'DBSCAN(eps = 0.01, metric = cosine, min_samples = 3)'],\n",
    "     ['Cover', 'Balanced'],\n",
    "     ['Intervals', '60'],\n",
    "     ['Overlapping', '90%'],\n",
    "     ['Contract nodes', 'Yes']],\n",
    "         cellLoc = 'center',\n",
    "         loc = 'center',\n",
    "         colLoc = 'center',\n",
    "         rowLoc = 'center',\n",
    "         #cellColours = [['#8DD4CD','w'],['#8DD4CD','w'],['#8DD4CD','w'],['#8DD4CD','w'],['#8DD4CD','w'],['#8DD4CD','w']],\n",
    "         edges = 'closed',\n",
    "         #colWidths = [0.05,0.20,0.10,0.10,0.10]\n",
    "         )\n",
    "plt.axis('off')\n",
    "meta_table.auto_set_font_size(False)\n",
    "meta_table.set_fontsize(15)\n",
    "meta_table.scale(3,3)\n",
    "meta_fig = meta_table.figure\n",
    "\n",
    "pp = PdfPages(\"tabgen3.pdf\")\n",
    "pp.savefig(meta_fig, bbox_inches='tight')\n",
    "pp.close()"
   ]
  },
  {
   "cell_type": "code",
   "execution_count": null,
   "id": "international-guide",
   "metadata": {},
   "outputs": [],
   "source": []
  }
 ],
 "metadata": {
  "kernelspec": {
   "display_name": "Python 3",
   "language": "python",
   "name": "python3"
  },
  "language_info": {
   "codemirror_mode": {
    "name": "ipython",
    "version": 3
   },
   "file_extension": ".py",
   "mimetype": "text/x-python",
   "name": "python",
   "nbconvert_exporter": "python",
   "pygments_lexer": "ipython3",
   "version": "3.7.10"
  }
 },
 "nbformat": 4,
 "nbformat_minor": 5
}
